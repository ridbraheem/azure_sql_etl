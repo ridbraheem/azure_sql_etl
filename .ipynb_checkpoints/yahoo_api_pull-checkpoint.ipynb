{
 "cells": [
  {
   "cell_type": "code",
   "execution_count": 34,
   "metadata": {},
   "outputs": [],
   "source": [
    "import pandas as pd\n",
    "import yfinance as yf\n",
    "import json\n",
    "import numpy as np\n",
    "from sqlalchemy import create_engine\n",
    "import pyodbc\n",
    "import urllib"
   ]
  },
  {
   "cell_type": "code",
   "execution_count": 35,
   "metadata": {},
   "outputs": [],
   "source": [
    "DB = {'servername': '',\n",
    "      'database': '',\n",
    "      'username': '',\n",
    "      'password': '',\n",
    "      'driver': 'SQL Server Native Client 11.0'}\n",
    "\n",
    "conn = pyodbc.connect('DRIVER='+ DB['driver']\n",
    "                      +';PORT=1433;SERVER='\n",
    "                      + DB['servername']\n",
    "                      +';PORT=1443;DATABASE='\n",
    "                      + DB['database'] +';UID='\n",
    "                      + DB['username']\n",
    "                      +';PWD='\n",
    "                      + DB['password'])\n",
    "cursor = conn.cursor()\n",
    "params = urllib.parse.quote_plus(\"DRIVER={SQL Server Native Client 11.0}\"\n",
    "                                 + \";SERVER=\"\n",
    "                                 + DB['servername']\n",
    "                                 + \";DATABASE=\"\n",
    "                                 + DB['database'] \n",
    "                                 + \";UID=\"\n",
    "                                 + DB['username']\n",
    "                                 + \";PWD=\"\n",
    "                                 + DB['password'])\n",
    "\n",
    "engine = create_engine(\"mssql+pyodbc:///?odbc_connect=%s\" % params)"
   ]
  },
  {
   "cell_type": "code",
   "execution_count": 17,
   "metadata": {},
   "outputs": [],
   "source": [
    "def get_dow_tickers():\n",
    "    \n",
    "    df = pd.read_html('https://en.wikipedia.org/wiki/Dow_Jones_Industrial_Average')\n",
    "    df = df[1]\n",
    "    df[['Symbol', 'New']] = df['Symbol'].str.split(':',expand=True)\n",
    "    df['New'] = np.where(df['New'].isna(), df['Symbol'], df['New'])\n",
    "    df = df['New'].str.strip()\n",
    "    df = list(df)\n",
    "    df = [i.upper() for i in df]\n",
    "    \n",
    "    return df"
   ]
  },
  {
   "cell_type": "code",
   "execution_count": 18,
   "metadata": {},
   "outputs": [],
   "source": [
    "def get_ticker_info():\n",
    "\n",
    "    df = tickers\n",
    "    df = [yf.Ticker(x) for x in df]\n",
    "    df = [x.info for x in df]\n",
    "    df = pd.json_normalize(df)\n",
    "    df = df[['symbol', 'shortName', 'industry','sector', 'country','website']]\n",
    "    \n",
    "    return df"
   ]
  },
  {
   "cell_type": "code",
   "execution_count": 19,
   "metadata": {},
   "outputs": [],
   "source": [
    "def get_sector():\n",
    "    \n",
    "    df = tickers_info\n",
    "    dfu = df.sector.unique()\n",
    "    df = pd.DataFrame()\n",
    "    df['sector'] = dfu.tolist()\n",
    "    df['sectorid'] = df.index\n",
    "    \n",
    "    return df"
   ]
  },
  {
   "cell_type": "code",
   "execution_count": 20,
   "metadata": {},
   "outputs": [],
   "source": [
    "def ticker_load():\n",
    "    \n",
    "    df1 = tickers_info\n",
    "    df2 = sector\n",
    "    df = pd.merge(df1,df2,on ='sector',how ='inner')\n",
    "    df['companyid'] = df.index\n",
    "    df = df.drop(columns = ['sector'])\n",
    "\n",
    "    return df"
   ]
  },
  {
   "cell_type": "code",
   "execution_count": 21,
   "metadata": {},
   "outputs": [],
   "source": [
    "def get_holders():\n",
    "\n",
    "    df = tickers\n",
    "    df = [yf.Ticker(x) for x in df]\n",
    "    dfx = []\n",
    "    for x in df:\n",
    "        df = x.institutional_holders\n",
    "        df['symbol'] = x\n",
    "        dfx.append(df)\n",
    "    dfx = pd.concat(dfx).reset_index(drop='index')\n",
    "    dfx['symbol'] = dfx.symbol.astype('str').str.replace(r\"yfinance.Ticker object <\", \" \",\n",
    "                                                         regex=True).replace(r\">\", \" \",regex=True).str.strip()\n",
    "    \n",
    "    return dfx"
   ]
  },
  {
   "cell_type": "code",
   "execution_count": 22,
   "metadata": {},
   "outputs": [],
   "source": [
    "def get_holders_list():\n",
    "    \n",
    "    df = get_holders()\n",
    "    dfh = df.Holder.unique()\n",
    "    df = pd.DataFrame()\n",
    "    df['Holder'] = dfh.tolist()\n",
    "    df['Holderid'] = df.index\n",
    "    \n",
    "    return df"
   ]
  },
  {
   "cell_type": "code",
   "execution_count": 23,
   "metadata": {},
   "outputs": [],
   "source": [
    "def holding_details():\n",
    "\n",
    "    df1 = getHolders\n",
    "    df2 = majorHolders\n",
    "    df3 = companyProfile[['symbol','companyid']]\n",
    "    df = pd.merge(df1,df2,on ='Holder',how ='inner')\n",
    "    df = df.drop(columns = ['Holder','% Out'])\n",
    "    df = pd.merge(df,df3,on ='symbol',how ='inner')\n",
    "    df = df.drop(columns = ['symbol']).rename(columns={'Date Reported':'DateReported'})\n",
    "    df['DateReported'] = pd.to_datetime(df['DateReported']).dt.date\n",
    "\n",
    "    return df"
   ]
  },
  {
   "cell_type": "code",
   "execution_count": 31,
   "metadata": {},
   "outputs": [],
   "source": [
    "def yahoo_change():\n",
    "    \n",
    "    df = tickers\n",
    "    df2 = companyProfile[['symbol','companyid']]\n",
    "    df = [yf.Ticker(x) for x in df]\n",
    "    dfx = []\n",
    "    for x in df:\n",
    "        df = x.history(period=\"5d\")\n",
    "        df['symbol'] = x\n",
    "        dfx.append(df)\n",
    "    dfx = pd.concat(dfx)\n",
    "    dfx['symbol'] = dfx.symbol.astype('str').str.replace(r\"yfinance.Ticker object <\", \" \",\n",
    "                                                             regex=True).replace(r\">\", \" \",regex=True).str.strip()\n",
    "    dfx = dfx.reset_index().drop(columns = ['Low','High','Volume','Dividends','Stock Splits']).rename(columns={'Open':'DayOpen',\n",
    "                                                                                                       'Close': 'DayClose'})\n",
    "    dfx['Date'] = pd.to_datetime(dfx['Date']).dt.date\n",
    "    dfx = pd.merge(df2,dfx,on ='symbol',how ='inner')\n",
    "    dfx = dfx.drop(columns = ['symbol'])\n",
    "\n",
    "    return dfx"
   ]
  },
  {
   "cell_type": "code",
   "execution_count": 36,
   "metadata": {},
   "outputs": [],
   "source": [
    "#### Variables before loading\n",
    "tickers = get_dow_tickers()\n",
    "tickers_info = get_ticker_info()\n",
    "getHolders = get_holders()\n",
    "\n",
    "##### Variables for loading table\n",
    "sector = get_sector()\n",
    "majorHolders = get_holders_list()\n",
    "companyProfile = ticker_load()\n",
    "holdingDetails = holding_details()\n",
    "YahooDailyChange = yahoo_change()\n",
    "\n",
    "# YahooDailyChange.to_sql('YahooDailyChange', index=False, con=engine, if_exists = 'append')"
   ]
  }
 ],
 "metadata": {
  "kernelspec": {
   "display_name": "Python 3",
   "language": "python",
   "name": "python3"
  },
  "language_info": {
   "codemirror_mode": {
    "name": "ipython",
    "version": 3
   },
   "file_extension": ".py",
   "mimetype": "text/x-python",
   "name": "python",
   "nbconvert_exporter": "python",
   "pygments_lexer": "ipython3",
   "version": "3.7.6"
  }
 },
 "nbformat": 4,
 "nbformat_minor": 4
}
