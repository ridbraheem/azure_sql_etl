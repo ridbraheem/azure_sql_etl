{
 "cells": [
  {
   "cell_type": "code",
   "execution_count": 220,
   "metadata": {},
   "outputs": [],
   "source": [
    "from sqlalchemy import create_engine\n",
    "from datetime import datetime,timedelta\n",
    "from time import sleep\n",
    "import time\n",
    "import pandas as pd\n",
    "import numpy as np\n",
    "import json\n",
    "import pyodbc\n",
    "import requests\n",
    "import urllib"
   ]
  },
  {
   "cell_type": "code",
   "execution_count": 283,
   "metadata": {},
   "outputs": [],
   "source": [
    "DB = {'servername': '',\n",
    "      'database': '',\n",
    "      'username': '',\n",
    "      'password': '',\n",
    "      'driver': 'SQL Server Native Client 11.0'}\n",
    "\n",
    "conn = pyodbc.connect('DRIVER='+ DB['driver']\n",
    "                      +';PORT=1433;SERVER='\n",
    "                      + DB['servername']\n",
    "                      +';PORT=1443;DATABASE='\n",
    "                      + DB['database'] +';UID='\n",
    "                      + DB['username']\n",
    "                      +';PWD='\n",
    "                      + DB['password'])\n",
    "cursor = conn.cursor()\n",
    "params = urllib.parse.quote_plus(\"DRIVER={SQL Server Native Client 11.0}\"\n",
    "                                 + \";SERVER=\"\n",
    "                                 + DB['servername']\n",
    "                                 + \";DATABASE=\"\n",
    "                                 + DB['database'] \n",
    "                                 + \";UID=\"\n",
    "                                 + DB['username']\n",
    "                                 + \";PWD=\"\n",
    "                                 + DB['password'])\n",
    "\n",
    "engine = create_engine(\"mssql+pyodbc:///?odbc_connect=%s\" % params)"
   ]
  },
  {
   "cell_type": "code",
   "execution_count": 247,
   "metadata": {},
   "outputs": [],
   "source": [
    "# https://github.com/achin83/Yelp-API/blob/master/YELP.ipynb\n",
    "# https://github.com/learn-co-students/ds-skills2-python-api-intro-yelp-nyc-ds-skills-011519\n",
    "def get_company_info():\n",
    "    \n",
    "    dquery = pd.read_sql(\"\"\"SELECT companyid, shortName FROM companyProfile\"\"\", conn)\n",
    "\n",
    "    dquery['short'] = dquery.shortName.astype('str').str.replace(r\"\\(.*\\)\", \" \",\n",
    "                                                             regex=True).replace(r\"Inc.\", \" \",\n",
    "                                                             regex=True).replace(r\",\", \" \",\n",
    "                                                             regex=True).replace(r\"Corporation\", \" \",\n",
    "                                                             regex=True).replace(r\" Company\", \" \",\n",
    "                                                             regex=True).str.strip()\n",
    "    dquery\n",
    "    \n",
    "    return dquery"
   ]
  },
  {
   "cell_type": "code",
   "execution_count": 269,
   "metadata": {},
   "outputs": [],
   "source": [
    "def get_nyt_api():\n",
    "    \n",
    "    today = datetime.today().strftime('%Y%m%d')\n",
    "    lastweek = datetime.strftime(datetime.now() - timedelta(7), '%Y%m%d')\n",
    "    api_key = \"\"\n",
    "    dfc = get_company_info()\n",
    "    dfc = dfc['short'].values.tolist()\n",
    "    \n",
    "    dfx = []\n",
    "\n",
    "    for x in company:\n",
    "\n",
    "        parameters = {\n",
    "        \"query\": x,\n",
    "        \"begin_date\": lastweek,\n",
    "        \"end_date\": today,\n",
    "        \"sort\": \"newest\",\n",
    "        \"api-key\": api_key\n",
    "        }\n",
    "\n",
    "        url = \"https://api.nytimes.com/svc/search/v2/articlesearch.json\"\n",
    "\n",
    "        try:\n",
    "            response = requests.get(url, params=parameters).json()['response']['docs']\n",
    "            df = pd.json_normalize(response)[['pub_date',\n",
    "                                              'headline.print_headline',\n",
    "                                              'subsection_name',\n",
    "                                              'web_url',\n",
    "                                              'source']].rename(columns={'pub_date': 'PubDate',\n",
    "                                                                         'headline.print_headline': 'headline',\n",
    "                                                                         'subsection_name': 'subsection',\n",
    "                                                                         'web_url': 'weblink'})\n",
    "            df['short'] = parameters[\"query\"]\n",
    "            dfx.append(df)\n",
    "        except:\n",
    "            continue\n",
    "\n",
    "    dfx = pd.concat(dfx).reset_index(drop='index')\n",
    "    dfx['newsid'] = dfx.index\n",
    "    dfx['PubDate'] = dfx['PubDate'].str[:10]\n",
    "    dfx['PubDate'] = pd.to_datetime(dfx['PubDate']).dt.date\n",
    "    dfx = pd.merge(dquery,dfx,on ='short',how ='inner').drop(columns = ['short','shortName'])\n",
    "\n",
    "    return dfx"
   ]
  },
  {
   "cell_type": "code",
   "execution_count": 286,
   "metadata": {},
   "outputs": [],
   "source": [
    "get_nyt_api().to_sql('nytapi', con=engine, index=False, if_exists = 'append')"
   ]
  }
 ],
 "metadata": {
  "kernelspec": {
   "display_name": "Python 3",
   "language": "python",
   "name": "python3"
  },
  "language_info": {
   "codemirror_mode": {
    "name": "ipython",
    "version": 3
   },
   "file_extension": ".py",
   "mimetype": "text/x-python",
   "name": "python",
   "nbconvert_exporter": "python",
   "pygments_lexer": "ipython3",
   "version": "3.7.6"
  }
 },
 "nbformat": 4,
 "nbformat_minor": 4
}
