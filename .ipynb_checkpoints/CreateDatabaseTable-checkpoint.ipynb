{
 "cells": [
  {
   "cell_type": "code",
   "execution_count": 12,
   "metadata": {},
   "outputs": [],
   "source": [
    "from sqlalchemy import create_engine\n",
    "import pyodbc"
   ]
  },
  {
   "cell_type": "code",
   "execution_count": 29,
   "metadata": {},
   "outputs": [],
   "source": [
    "DB = {'servername': '',\n",
    "      'database': '',\n",
    "      'username': '',\n",
    "      'password': '',\n",
    "      'driver': 'SQL Server Native Client 11.0'}\n",
    "\n",
    "conn = pyodbc.connect('DRIVER='+ DB['driver']\n",
    "                      +';PORT=1433;SERVER='\n",
    "                      + DB['servername']\n",
    "                      +';PORT=1443;DATABASE='\n",
    "                      + DB['database'] +';UID='\n",
    "                      + DB['username']\n",
    "                      +';PWD='\n",
    "                      + DB['password'])\n",
    "cursor = conn.cursor()"
   ]
  },
  {
   "cell_type": "code",
   "execution_count": 36,
   "metadata": {},
   "outputs": [],
   "source": [
    "sector_table = (\"\"\" CREATE TABLE sector (\n",
    "    sectorid int PRIMARY KEY,\n",
    "    sector nvarchar(50) NOT NULL UNIQUE\n",
    ");\n",
    "\"\"\")\n",
    "\n",
    "majorHolders_table = (\"\"\" CREATE TABLE majorHolders (\n",
    "    Holderid int PRIMARY KEY,\n",
    "    Holder nvarchar(50) NOT NULL UNIQUE\n",
    ");\n",
    "\"\"\")\n",
    "\n",
    "companyProfile_table = (\"\"\" CREATE TABLE companyProfile (\n",
    "    companyid int PRIMARY KEY,\n",
    "    sectorid int REFERENCES sector(sectorid), \n",
    "    shortName nvarchar(50) NOT NULL UNIQUE,\n",
    "    industry nvarchar(50) NOT NULL,\n",
    "    country nvarchar(50),\n",
    "    website nvarchar(100) NOT NULL UNIQUE,\n",
    "    symbol nvarchar(7) NOT NULL UNIQUE\n",
    ");\n",
    "\"\"\")\n",
    "\n",
    "holdingDetails_table = (\"\"\" CREATE TABLE holdingDetails (\n",
    "    companyid int NOT NULL REFERENCES companyProfile(companyid),\n",
    "    Holderid int NOT NULL REFERENCES majorHolders(Holderid), \n",
    "    DateReported date,\n",
    "    Value bigint NOT NULL,\n",
    "    Shares bigint NOT NULL,\n",
    ");\n",
    "\"\"\")\n",
    "\n",
    "addconstraint_hold = (\"\"\" ALTER TABLE  dbo.holdingDetails\n",
    "    ADD CONSTRAINT pk_myConstraint PRIMARY KEY (companyid,Holderid)\n",
    "\"\"\")\n",
    "\n",
    "yahoodailychange_table = (\"\"\" CREATE TABLE YahooDailyChange (\n",
    "    Date date NOT NULL,\n",
    "    companyid int NOT NULL REFERENCES companyProfile(companyid), \n",
    "    DayOpen float NOT NULL,\n",
    "    DayClose float NOT NULL\n",
    ");\n",
    "\"\"\")\n",
    "\n",
    "addconstraint_yahoo = (\"\"\" ALTER TABLE  dbo.YahooDailyChange\n",
    "    ADD CONSTRAINT pk_myConstraint_yahoo PRIMARY KEY (companyid,Date)\n",
    "\"\"\")\n",
    "\n",
    "nyt_api = (\"\"\" CREATE TABLE nytapi (\n",
    "    newsid int PRIMARY KEY,\n",
    "    companyid int NOT NULL REFERENCES companyProfile(companyid), \n",
    "    PubDate date NOT NULL,\n",
    "    headline nvarchar(MAX),\n",
    "    subsection nvarchar(50),\n",
    "    weblink nvarchar(MAX) NOT NULL,\n",
    "    source nvarchar(50),\n",
    "    )\n",
    "\"\"\")"
   ]
  },
  {
   "cell_type": "code",
   "execution_count": 33,
   "metadata": {},
   "outputs": [],
   "source": [
    "create_table_queries = [sector_table, majorHolders_table, companyProfile_table,\n",
    "                        holdingDetails_table,addconstraint_hold,yahoodailychange_table,addconstraint_yahoo, nyt_api]"
   ]
  },
  {
   "cell_type": "code",
   "execution_count": 30,
   "metadata": {},
   "outputs": [],
   "source": [
    "def create_tables(engine, conn):\n",
    "    for query in create_table_queries:\n",
    "        cursor.execute(query)\n",
    "        conn.commit()"
   ]
  },
  {
   "cell_type": "code",
   "execution_count": 35,
   "metadata": {},
   "outputs": [],
   "source": [
    "create_tables(cursor, conn)"
   ]
  }
 ],
 "metadata": {
  "kernelspec": {
   "display_name": "Python 3",
   "language": "python",
   "name": "python3"
  },
  "language_info": {
   "codemirror_mode": {
    "name": "ipython",
    "version": 3
   },
   "file_extension": ".py",
   "mimetype": "text/x-python",
   "name": "python",
   "nbconvert_exporter": "python",
   "pygments_lexer": "ipython3",
   "version": "3.7.6"
  }
 },
 "nbformat": 4,
 "nbformat_minor": 4
}
